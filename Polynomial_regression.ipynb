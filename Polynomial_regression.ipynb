{
  "nbformat": 4,
  "nbformat_minor": 0,
  "metadata": {
    "colab": {
      "name": "Polynomial regression.ipynb",
      "version": "0.3.2",
      "provenance": [],
      "include_colab_link": true
    },
    "kernelspec": {
      "name": "python3",
      "display_name": "Python 3"
    }
  },
  "cells": [
    {
      "cell_type": "markdown",
      "metadata": {
        "id": "view-in-github",
        "colab_type": "text"
      },
      "source": [
        "<a href=\"https://colab.research.google.com/github/Sahana-M/self-driving-car/blob/master/Polynomial_regression.ipynb\" target=\"_parent\"><img src=\"https://colab.research.google.com/assets/colab-badge.svg\" alt=\"Open In Colab\"/></a>"
      ]
    },
    {
      "cell_type": "code",
      "metadata": {
        "id": "TRVbW1FgE6zr",
        "colab_type": "code",
        "colab": {}
      },
      "source": [
        "import numpy as np\n",
        "import matplotlib.pyplot as plt\n",
        "import random\n",
        "from keras.models import Sequential\n",
        "from keras.layers import Dense\n",
        "from keras.optimizers import Adam"
      ],
      "execution_count": 0,
      "outputs": []
    },
    {
      "cell_type": "code",
      "metadata": {
        "id": "sUK-L4QZFJ0B",
        "colab_type": "code",
        "colab": {
          "base_uri": "https://localhost:8080/",
          "height": 287
        },
        "outputId": "34745ac2-ce3e-403b-a51d-82c996740065"
      },
      "source": [
        "np.random.seed()\n",
        "points = 500\n",
        "x = np.linspace(-3, 3, points)\n",
        "y = np.sin(x) + np.random.uniform(-0.5, 0.5, points)\n",
        "plt.scatter(x,y)"
      ],
      "execution_count": 8,
      "outputs": [
        {
          "output_type": "execute_result",
          "data": {
            "text/plain": [
              "<matplotlib.collections.PathCollection at 0x7f2524cd74a8>"
            ]
          },
          "metadata": {
            "tags": []
          },
          "execution_count": 8
        },
        {
          "output_type": "display_data",
          "data": {
            "image/png": "[encoded data removed]",
            "text/plain": [
              "<Figure size 432x288 with 1 Axes>"
            ]
          },
          "metadata": {
            "tags": []
          }
        }
      ]
    },
    {
      "cell_type": "code",
      "metadata": {
        "id": "WmulFiiyFdrw",
        "colab_type": "code",
        "colab": {
          "base_uri": "https://localhost:8080/",
          "height": 165
        },
        "outputId": "be3ada98-096f-4507-db3b-ad2bbfc5664e"
      },
      "source": [
        "model = Sequential()\n",
        "model.add(Dense(50, activation='sigmoid', input_dim=1))\n",
        "model.add(Dense(30, activation = 'sigmoid'))\n",
        "model.add(Dense(1))\n",
        "\n"
      ],
      "execution_count": 9,
      "outputs": [
        {
          "output_type": "stream",
          "text": [
            "WARNING: Logging before flag parsing goes to stderr.\n",
            "W0628 18:16:05.084729 139798493968256 deprecation_wrapper.py:119] From /usr/local/lib/python3.6/dist-packages/keras/backend/tensorflow_backend.py:74: The name tf.get_default_graph is deprecated. Please use tf.compat.v1.get_default_graph instead.\n",
            "\n",
            "W0628 18:16:05.142036 139798493968256 deprecation_wrapper.py:119] From /usr/local/lib/python3.6/dist-packages/keras/backend/tensorflow_backend.py:517: The name tf.placeholder is deprecated. Please use tf.compat.v1.placeholder instead.\n",
            "\n",
            "W0628 18:16:05.149829 139798493968256 deprecation_wrapper.py:119] From /usr/local/lib/python3.6/dist-packages/keras/backend/tensorflow_backend.py:4138: The name tf.random_uniform is deprecated. Please use tf.random.uniform instead.\n",
            "\n"
          ],
          "name": "stderr"
        }
      ]
    },
    {
      "cell_type": "code",
      "metadata": {
        "id": "DEHCH27cFZrC",
        "colab_type": "code",
        "colab": {
          "base_uri": "https://localhost:8080/",
          "height": 1000
        },
        "outputId": "e8aeb054-0a9a-4ff3-d750-ce94ca965f13"
      },
      "source": [
        "adam = Adam(lr= 0.01)\n",
        "model.compile(loss='mse', optimizer = adam)\n",
        "model.fit(x, y, epochs = 50)\n",
        "\n"
      ],
      "execution_count": 11,
      "outputs": [
        {
          "output_type": "stream",
          "text": [
            "W0628 18:16:22.365824 139798493968256 deprecation_wrapper.py:119] From /usr/local/lib/python3.6/dist-packages/keras/backend/tensorflow_backend.py:986: The name tf.assign_add is deprecated. Please use tf.compat.v1.assign_add instead.\n",
            "\n",
            "W0628 18:16:22.458693 139798493968256 deprecation_wrapper.py:119] From /usr/local/lib/python3.6/dist-packages/keras/backend/tensorflow_backend.py:973: The name tf.assign is deprecated. Please use tf.compat.v1.assign instead.\n",
            "\n"
          ],
          "name": "stderr"
        },
        {
          "output_type": "stream",
          "text": [
            "Epoch 1/50\n",
            "500/500 [==============================] - 1s 1ms/step - loss: 0.4450\n",
            "Epoch 2/50\n",
            "500/500 [==============================] - 0s 54us/step - loss: 0.2284\n",
            "Epoch 3/50\n",
            "500/500 [==============================] - 0s 40us/step - loss: 0.2139\n",
            "Epoch 4/50\n",
            "500/500 [==============================] - 0s 50us/step - loss: 0.2129\n",
            "Epoch 5/50\n",
            "500/500 [==============================] - 0s 41us/step - loss: 0.2051\n",
            "Epoch 6/50\n",
            "500/500 [==============================] - 0s 40us/step - loss: 0.1992\n",
            "Epoch 7/50\n",
            "500/500 [==============================] - 0s 46us/step - loss: 0.2114\n",
            "Epoch 8/50\n",
            "500/500 [==============================] - 0s 41us/step - loss: 0.1879\n",
            "Epoch 9/50\n",
            "500/500 [==============================] - 0s 43us/step - loss: 0.1778\n",
            "Epoch 10/50\n",
            "500/500 [==============================] - 0s 53us/step - loss: 0.1685\n",
            "Epoch 11/50\n",
            "500/500 [==============================] - 0s 56us/step - loss: 0.1578\n",
            "Epoch 12/50\n",
            "500/500 [==============================] - 0s 49us/step - loss: 0.1554\n",
            "Epoch 13/50\n",
            "500/500 [==============================] - 0s 46us/step - loss: 0.1514\n",
            "Epoch 14/50\n",
            "500/500 [==============================] - 0s 48us/step - loss: 0.1329\n",
            "Epoch 15/50\n",
            "500/500 [==============================] - 0s 44us/step - loss: 0.1251\n",
            "Epoch 16/50\n",
            "500/500 [==============================] - 0s 45us/step - loss: 0.1174\n",
            "Epoch 17/50\n",
            "500/500 [==============================] - 0s 44us/step - loss: 0.1145\n",
            "Epoch 18/50\n",
            "500/500 [==============================] - 0s 42us/step - loss: 0.1093\n",
            "Epoch 19/50\n",
            "500/500 [==============================] - 0s 56us/step - loss: 0.1135\n",
            "Epoch 20/50\n",
            "500/500 [==============================] - 0s 53us/step - loss: 0.1141\n",
            "Epoch 21/50\n",
            "500/500 [==============================] - 0s 41us/step - loss: 0.1065\n",
            "Epoch 22/50\n",
            "500/500 [==============================] - 0s 47us/step - loss: 0.1150\n",
            "Epoch 23/50\n",
            "500/500 [==============================] - 0s 44us/step - loss: 0.1083\n",
            "Epoch 24/50\n",
            "500/500 [==============================] - 0s 44us/step - loss: 0.1025\n",
            "Epoch 25/50\n",
            "500/500 [==============================] - 0s 45us/step - loss: 0.1040\n",
            "Epoch 26/50\n",
            "500/500 [==============================] - 0s 44us/step - loss: 0.1005\n",
            "Epoch 27/50\n",
            "500/500 [==============================] - 0s 47us/step - loss: 0.1045\n",
            "Epoch 28/50\n",
            "500/500 [==============================] - 0s 59us/step - loss: 0.1010\n",
            "Epoch 29/50\n",
            "500/500 [==============================] - 0s 46us/step - loss: 0.0989\n",
            "Epoch 30/50\n",
            "500/500 [==============================] - 0s 54us/step - loss: 0.0996\n",
            "Epoch 31/50\n",
            "500/500 [==============================] - 0s 44us/step - loss: 0.1035\n",
            "Epoch 32/50\n",
            "500/500 [==============================] - 0s 43us/step - loss: 0.1060\n",
            "Epoch 33/50\n",
            "500/500 [==============================] - 0s 42us/step - loss: 0.0989\n",
            "Epoch 34/50\n",
            "500/500 [==============================] - 0s 41us/step - loss: 0.0957\n",
            "Epoch 35/50\n",
            "500/500 [==============================] - 0s 59us/step - loss: 0.0962\n",
            "Epoch 36/50\n",
            "500/500 [==============================] - 0s 48us/step - loss: 0.1018\n",
            "Epoch 37/50\n",
            "500/500 [==============================] - 0s 59us/step - loss: 0.0985\n",
            "Epoch 38/50\n",
            "500/500 [==============================] - 0s 45us/step - loss: 0.0988\n",
            "Epoch 39/50\n",
            "500/500 [==============================] - 0s 49us/step - loss: 0.1008\n",
            "Epoch 40/50\n",
            "500/500 [==============================] - 0s 42us/step - loss: 0.0959\n",
            "Epoch 41/50\n",
            "500/500 [==============================] - 0s 46us/step - loss: 0.0949\n",
            "Epoch 42/50\n",
            "500/500 [==============================] - 0s 48us/step - loss: 0.0978\n",
            "Epoch 43/50\n",
            "500/500 [==============================] - 0s 49us/step - loss: 0.0942\n",
            "Epoch 44/50\n",
            "500/500 [==============================] - 0s 52us/step - loss: 0.0903\n",
            "Epoch 45/50\n",
            "500/500 [==============================] - 0s 46us/step - loss: 0.0917\n",
            "Epoch 46/50\n",
            "500/500 [==============================] - 0s 46us/step - loss: 0.0985\n",
            "Epoch 47/50\n",
            "500/500 [==============================] - 0s 53us/step - loss: 0.0929\n",
            "Epoch 48/50\n",
            "500/500 [==============================] - 0s 45us/step - loss: 0.0918\n",
            "Epoch 49/50\n",
            "500/500 [==============================] - 0s 46us/step - loss: 0.0946\n",
            "Epoch 50/50\n",
            "500/500 [==============================] - 0s 48us/step - loss: 0.0894\n"
          ],
          "name": "stdout"
        },
        {
          "output_type": "execute_result",
          "data": {
            "text/plain": [
              "<keras.callbacks.History at 0x7f25243c4c18>"
            ]
          },
          "metadata": {
            "tags": []
          },
          "execution_count": 11
        }
      ]
    },
    {
      "cell_type": "code",
      "metadata": {
        "id": "mLexbGM8H7aS",
        "colab_type": "code",
        "colab": {
          "base_uri": "https://localhost:8080/",
          "height": 269
        },
        "outputId": "651503d0-f047-4968-aa4e-f0161f0cc265"
      },
      "source": [
        "predictions = model.predict(x)\n",
        "plt.scatter(x,y)\n",
        "plt.plot(x,predictions, 'ro')\n",
        "plt.show()"
      ],
      "execution_count": 13,
      "outputs": [
        {
          "output_type": "display_data",
          "data": {
            "image/png": "[encoded data removed]",
            "text/plain": [
              "<Figure size 432x288 with 1 Axes>"
            ]
          },
          "metadata": {
            "tags": []
          }
        }
      ]
    },
    {
      "cell_type": "code",
      "metadata": {
        "id": "Y52eadlmH-Ui",
        "colab_type": "code",
        "colab": {}
      },
      "source": [
        ""
      ],
      "execution_count": 0,
      "outputs": []
    },
    {
      "cell_type": "code",
      "metadata": {
        "id": "9H0ks0ZgH-cD",
        "colab_type": "code",
        "colab": {}
      },
      "source": [
        ""
      ],
      "execution_count": 0,
      "outputs": []
    },
    {
      "cell_type": "code",
      "metadata": {
        "id": "qE1I2lO2H-e9",
        "colab_type": "code",
        "colab": {}
      },
      "source": [
        ""
      ],
      "execution_count": 0,
      "outputs": []
    },
    {
      "cell_type": "code",
      "metadata": {
        "id": "LVaB8L-vH-h6",
        "colab_type": "code",
        "colab": {}
      },
      "source": [
        ""
      ],
      "execution_count": 0,
      "outputs": []
    }
  ]
}